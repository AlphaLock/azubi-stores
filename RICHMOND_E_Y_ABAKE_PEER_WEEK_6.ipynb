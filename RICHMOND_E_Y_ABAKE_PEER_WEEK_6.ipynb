{
 "cells": [
  {
   "cell_type": "code",
   "execution_count": 1,
   "id": "68097255",
   "metadata": {},
   "outputs": [],
   "source": [
    "# Azubi store has products that customers love. Below are the products, prices and the number of customers that patronize each product last week.\n",
    "\n",
    "# The owner wants you to do some analysis on data with these criteria's:\n",
    "\n",
    "#     -calculate the total price average for all products\n",
    "\n",
    "#     -create a new price list that reduces the old prices by GHC5\n",
    "\n",
    "#     -calculate the total revenue generated from the products\n",
    "\n",
    "#     -calculate the average daily revenue generated from the products\n",
    "\n",
    "#     -based on the new prices, which products are less than GHC30 \n",
    "\n",
    "# Below is the data you are to use for the problem :\n",
    "\n",
    "# products = [\"Sankofa Foods\", \"Jamestown Coffee\", \"Bioko Chocolate\", \"Blue Skies Ice Cream\", \"Fair Afric Chocolate\", \"Kawa Moka Coffee\", \"Aphro Spirit\", \"Mensado Bissap\", \"Voltic\"]\n",
    "\n",
    "# prices = [30, 25, 40, 20, 20, 35, 45, 50, 35]\n",
    "\n",
    "# last_week = [2, 3, 5, 8, 4, 4, 6, 2, 9]"
   ]
  },
  {
   "cell_type": "markdown",
   "id": "042bc1c9",
   "metadata": {},
   "source": [
    "Question 1 calculate the total price average for all products\n"
   ]
  },
  {
   "cell_type": "code",
   "execution_count": 2,
   "id": "602c6a13",
   "metadata": {},
   "outputs": [
    {
     "name": "stdout",
     "output_type": "stream",
     "text": [
      "Total Price Average Is: 33.33\n"
     ]
    }
   ],
   "source": [
    "\n",
    "products = [\"Sankofa Foods\", \"Jamestown Coffee\", \"Bioko Chocolate\",\n",
    "            \"Blue Skies Ice Cream\", \"Fair Afric Chocolate\", \"Kawa Moka Coffee\",\n",
    "            \"Aphro Spirit\", \"Mensado Bissap\", \"Voltic\"]\n",
    "\n",
    "last_week = [2, 3, 5, 8, 4, 4, 6, 2, 9]\n",
    "\n",
    "sum = 0 \n",
    "prices = [30, 25, 40, 20, 20, 35, 45, 50, 35]\n",
    "\n",
    "for number in prices:\n",
    "    sum = sum + number \n",
    "my_average = round (sum/ (len (prices)),2)\n",
    "\n",
    "\n",
    "\n",
    "print (\"Total Price Average Is:\" , my_average)\n",
    "\n"
   ]
  },
  {
   "cell_type": "markdown",
   "id": "7238e4ba",
   "metadata": {},
   "source": [
    "Question 2: Create a new price list that reduces the old prices by GHC5\n"
   ]
  },
  {
   "cell_type": "code",
   "execution_count": 3,
   "id": "a04d72fc",
   "metadata": {},
   "outputs": [
    {
     "data": {
      "text/plain": [
       "[25, 20, 35, 15, 15, 30, 40, 45, 30]"
      ]
     },
     "execution_count": 3,
     "metadata": {},
     "output_type": "execute_result"
    }
   ],
   "source": [
    "new_prices = []\n",
    "for price_r in prices:\n",
    "    new_prices.append(price_r-5)\n",
    "new_prices"
   ]
  },
  {
   "cell_type": "markdown",
   "id": "050f25b3",
   "metadata": {},
   "source": [
    "Question 3 calculate the total revenue generated from the products"
   ]
  },
  {
   "cell_type": "code",
   "execution_count": 10,
   "id": "dc53e815",
   "metadata": {},
   "outputs": [
    {
     "name": "stdout",
     "output_type": "stream",
     "text": [
      "Total Revenue = $ 1400\n"
     ]
    }
   ],
   "source": [
    "products = [\"Sankofa Foods\", \"Jamestown Coffee\", \"Bioko Chocolate\",\n",
    "            \"Blue Skies Ice Cream\", \"Fair Afric Chocolate\", \"Kawa Moka Coffee\",\n",
    "            \"Aphro Spirit\", \"Mensado Bissap\", \"Voltic\"]\n",
    "\n",
    "last_week = [2, 3, 5, 8, 4, 4, 6, 2, 9]\n",
    "prices = [30, 25, 40, 20, 20, 35, 45, 50, 35]\n",
    "             \n",
    "result= []\n",
    "for i in range (0, len(last_week)):\n",
    "    result.append(last_week[i]* prices[i])\n",
    "    \n",
    "#print (result)\n",
    "\n",
    "total_rev=0\n",
    "result\n",
    "for number in result:\n",
    "    total_rev=total_rev + number  \n",
    "print (\"Total Revenue = $\" , total_rev)\n",
    "    "
   ]
  },
  {
   "cell_type": "markdown",
   "id": "62f039ca",
   "metadata": {},
   "source": [
    "Question 4 : Calculate the average daily revenue generated from the products"
   ]
  },
  {
   "cell_type": "code",
   "execution_count": 11,
   "id": "ec1b7d10",
   "metadata": {},
   "outputs": [
    {
     "name": "stdout",
     "output_type": "stream",
     "text": [
      "Daily Average =  200.0\n"
     ]
    }
   ],
   "source": [
    "\n",
    "\n",
    "# products = [\"Sankofa Foods\", \"Jamestown Coffee\", \"Bioko Chocolate\",\n",
    "#             \"Blue Skies Ice Cream\", \"Fair Afric Chocolate\", \"Kawa Moka Coffee\",\n",
    "#             \"Aphro Spirit\", \"Mensado Bissap\", \"Voltic\"]\n",
    "\n",
    "# last_week = [2, 3, 5, 8, 4, 4, 6, 2, 9]\n",
    "\n",
    "# sum = 0 \n",
    "# prices = [30, 25, 40, 20, 20, 35, 45, 50, 35]\n",
    "\n",
    "# for number in prices:\n",
    "#     sum = sum + number \n",
    "# my_average = round (sum/ (len (prices)),2)\n",
    "\n",
    "# #print (my_average)\n",
    "\n",
    "# daily_average= (my_average /7)\n",
    "\n",
    "print (\"Daily Average = \" , round(total_rev/7,2))\n",
    "\n",
    "\n",
    "\n",
    "\n",
    "\n"
   ]
  },
  {
   "cell_type": "markdown",
   "id": "cfca4f1e",
   "metadata": {},
   "source": [
    "Question 5: based on the new prices, which products are less than GHC30"
   ]
  },
  {
   "cell_type": "code",
   "execution_count": 7,
   "id": "7e4db077",
   "metadata": {},
   "outputs": [],
   "source": [
    "prod_new_price_dic = {}\n",
    "for price_x, prod_x in zip(new_prices,products):\n",
    "    \n",
    "    prod_new_price_dic[prod_x] = price_x"
   ]
  },
  {
   "cell_type": "code",
   "execution_count": null,
   "id": "9334494f",
   "metadata": {},
   "outputs": [],
   "source": [
    "prod_new_price_dic"
   ]
  },
  {
   "cell_type": "code",
   "execution_count": 8,
   "id": "2aa22910",
   "metadata": {},
   "outputs": [
    {
     "data": {
      "text/plain": [
       "{'Sankofa Foods': 25,\n",
       " 'Jamestown Coffee': 20,\n",
       " 'Blue Skies Ice Cream': 15,\n",
       " 'Fair Afric Chocolate': 15}"
      ]
     },
     "execution_count": 8,
     "metadata": {},
     "output_type": "execute_result"
    }
   ],
   "source": [
    "#Question5\n",
    "less_than_30_prices = {}\n",
    "for prod_m in prod_new_price_dic:\n",
    "    price_m = prod_new_price_dic[prod_m]\n",
    "    if price_m <30:\n",
    "        less_than_30_prices[prod_m]=price_m\n",
    "        \n",
    "less_than_30_prices"
   ]
  },
  {
   "cell_type": "code",
   "execution_count": null,
   "id": "ebbbfe28",
   "metadata": {},
   "outputs": [],
   "source": []
  }
 ],
 "metadata": {
  "kernelspec": {
   "display_name": "Python 3 (ipykernel)",
   "language": "python",
   "name": "python3"
  },
  "language_info": {
   "codemirror_mode": {
    "name": "ipython",
    "version": 3
   },
   "file_extension": ".py",
   "mimetype": "text/x-python",
   "name": "python",
   "nbconvert_exporter": "python",
   "pygments_lexer": "ipython3",
   "version": "3.10.10"
  },
  "vscode": {
   "interpreter": {
    "hash": "50c88e11c9b0ea0d9087a1bbcdd15dd49c9fe8ccdd98b283943ec073e34fba49"
   }
  }
 },
 "nbformat": 4,
 "nbformat_minor": 5
}
